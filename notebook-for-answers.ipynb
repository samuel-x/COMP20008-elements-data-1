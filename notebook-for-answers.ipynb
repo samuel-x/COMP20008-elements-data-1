{
 "cells": [
  {
   "cell_type": "code",
   "execution_count": 28,
   "metadata": {
    "collapsed": false
   },
   "outputs": [
    {
     "name": "stdout",
     "output_type": "stream",
     "text": [
      "        trip_distance  passenger_count  payment_amount           duration\n",
      "0                0.56                1            5.80    0 days 00:03:00\n",
      "1                3.55                1           20.16    0 days 00:19:00\n",
      "2                0.60                1            6.30    0 days 00:04:00\n",
      "3                3.20                2           12.30    0 days 00:09:00\n",
      "4                2.64                3           12.80    0 days 00:13:00\n",
      "5                3.53                1           16.80    0 days 00:18:00\n",
      "6                6.44                1           28.99    0 days 00:20:00\n",
      "7               15.75                1           53.80    0 days 00:21:00\n",
      "8                6.90                3           27.80    0 days 00:33:00\n",
      "9                4.71                2           19.80    0 days 00:21:00\n",
      "10               2.63                1           15.30    0 days 00:16:00\n",
      "11               3.40                1           14.80    0 days 00:15:00\n",
      "12               1.40                2            9.30    0 days 00:08:00\n",
      "13               1.39                1           11.44    0 days 00:09:00\n",
      "14               1.30                2            8.75    0 days 00:05:00\n",
      "15               3.05                2           18.96    0 days 00:22:00\n",
      "16               2.44                5           14.30    0 days 00:16:00\n",
      "17               2.25                5           14.75    0 days 00:13:00\n",
      "18               1.92                2           14.04    0 days 00:10:00\n",
      "19               1.21                2            7.30    0 days 00:05:00\n",
      "20               5.00                2           19.80    0 days 00:20:00\n",
      "21               0.45                1            6.80    0 days 00:05:00\n",
      "22               2.80                1           13.80    0 days 00:12:00\n",
      "23               1.50                1           12.05    0 days 00:09:00\n",
      "24               0.90                1            7.25    0 days 00:03:00\n",
      "25               7.75                1           32.88    0 days 00:19:00\n",
      "26               1.30                1            8.30    0 days 00:08:00\n",
      "27               3.30                1           13.30    0 days 00:11:00\n",
      "28               6.59                1           22.30    0 days 00:18:00\n",
      "29               1.20                1            9.30    0 days 00:06:00\n",
      "...               ...              ...             ...                ...\n",
      "109039           3.82                1           20.00    0 days 00:07:00\n",
      "109040           5.45                5           21.30    0 days 00:18:00\n",
      "109041           9.66                1           42.92    0 days 00:19:00\n",
      "109042           1.47                1            8.30    0 days 00:08:00\n",
      "109043           3.87                1           18.00    0 days 00:14:00\n",
      "109044           0.33                1            4.80    0 days 00:02:00\n",
      "109045          12.30                1           44.15 -30 days +00:23:00\n",
      "109046           1.90                1           10.80    0 days 00:11:00\n",
      "109047           0.41                3            5.76    0 days 00:01:00\n",
      "109048           5.70                1           20.80 -30 days +00:15:00\n",
      "109049           0.60                1            6.36    0 days 00:01:00\n",
      "109050           1.03                2            7.30    0 days 00:06:00\n",
      "109051           2.40                1           12.35    0 days 00:07:00\n",
      "109052           3.27                1           14.30    0 days 00:11:00\n",
      "109053           2.00                1           10.30    0 days 00:10:00\n",
      "109054           1.13                6            8.30    0 days 00:07:00\n",
      "109055           4.20                1           20.15 -30 days +00:16:00\n",
      "109056          11.50                1           33.30 -30 days +00:19:00\n",
      "109057           0.80                1            5.80    0 days 00:03:00\n",
      "109058           7.70                1           36.99 -30 days +00:16:00\n",
      "109059           2.14                1           13.30 -30 days +00:10:00\n",
      "109060           3.22                5           15.36 -30 days +00:09:00\n",
      "109061           2.65                1           11.30 -30 days +00:09:00\n",
      "109062           5.47                1           24.36 -30 days +00:21:00\n",
      "109063           1.06                4            7.80 -30 days +00:05:00\n",
      "109064           1.68                2           11.76 -30 days +00:09:00\n",
      "109065           7.70                1           33.34 -30 days +00:14:00\n",
      "109066           4.10                1           14.80 -30 days +00:08:00\n",
      "109067           2.50                1           12.30 -30 days +00:08:00\n",
      "109068           1.60                1            8.30 -30 days +00:06:00\n",
      "\n",
      "[109069 rows x 4 columns]\n"
     ]
    }
   ],
   "source": [
    "import pandas as pd\n",
    "dataframe = pd.read_csv(\"raw-january.csv\")\n",
    "duration = pd.to_datetime(dataframe.dropoff_datetime) - pd.to_datetime(dataframe.pickup_datetime)\n",
    "dataframe[\"duration\"] = duration\n",
    "\n",
    "dataframe2 = pd.DataFrame()\n",
    "for col in dataframe:\n",
    "    if (col != \"dropoff_datetime\" and col != \"pickup_datetime\"):\n",
    "        dataframe2[col] = dataframe[col]\n",
    "        \n",
    "print(dataframe2)"
   ]
  },
  {
   "cell_type": "code",
   "execution_count": 29,
   "metadata": {
    "collapsed": false
   },
   "outputs": [
    {
     "name": "stdout",
     "output_type": "stream",
     "text": [
      "Mean Duration:  0 days 00:32:04.907535 \n",
      "Mean Distance:  2.882933555822452 \n",
      "Mean Passenger Count:  1.6685584354857934\n"
     ]
    }
   ],
   "source": [
    "#Answer to 1.2\n",
    "print(\"Mean Duration: \", dataframe2[\"duration\"].mean(), \"\\nMean Distance: \", dataframe[\"trip_distance\"].mean(), \"\\nMean Passenger Count: \", dataframe2[\"passenger_count\"].mean())"
   ]
  },
  {
   "cell_type": "code",
   "execution_count": 36,
   "metadata": {
    "collapsed": false
   },
   "outputs": [
    {
     "data": {
      "text/plain": [
       "<matplotlib.axes._subplots.AxesSubplot at 0x21c9ff9b128>"
      ]
     },
     "execution_count": 36,
     "metadata": {},
     "output_type": "execute_result"
    }
   ],
   "source": [
    "#Answer to 1.3\n",
    "pd.DataFrame.boxplot(dataframe2)"
   ]
  },
  {
   "cell_type": "code",
   "execution_count": 4,
   "metadata": {
    "collapsed": true
   },
   "outputs": [],
   "source": [
    "#Answer to 1.4"
   ]
  },
  {
   "cell_type": "code",
   "execution_count": null,
   "metadata": {
    "collapsed": true
   },
   "outputs": [],
   "source": [
    "#Answer to 2.1"
   ]
  },
  {
   "cell_type": "code",
   "execution_count": null,
   "metadata": {
    "collapsed": true
   },
   "outputs": [],
   "source": [
    "#Answer to 2.2"
   ]
  },
  {
   "cell_type": "code",
   "execution_count": null,
   "metadata": {
    "collapsed": true
   },
   "outputs": [],
   "source": [
    "#Answer to 2.3"
   ]
  }
 ],
 "metadata": {
  "kernelspec": {
   "display_name": "Python 3",
   "language": "python",
   "name": "python3"
  },
  "language_info": {
   "codemirror_mode": {
    "name": "ipython",
    "version": 3
   },
   "file_extension": ".py",
   "mimetype": "text/x-python",
   "name": "python",
   "nbconvert_exporter": "python",
   "pygments_lexer": "ipython3",
   "version": "3.6.0"
  }
 },
 "nbformat": 4,
 "nbformat_minor": 0
}
